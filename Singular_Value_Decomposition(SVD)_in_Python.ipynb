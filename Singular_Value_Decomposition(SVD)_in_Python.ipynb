{
  "nbformat": 4,
  "nbformat_minor": 0,
  "metadata": {
    "colab": {
      "name": "Singular Value Decomposition(SVD) in Python.ipynb",
      "provenance": [],
      "authorship_tag": "ABX9TyNac25gBD3D5LfcsGaxz6qq",
      "include_colab_link": true
    },
    "kernelspec": {
      "name": "python3",
      "display_name": "Python 3"
    },
    "language_info": {
      "name": "python"
    }
  },
  "cells": [
    {
      "cell_type": "markdown",
      "metadata": {
        "id": "view-in-github",
        "colab_type": "text"
      },
      "source": [
        "<a href=\"https://colab.research.google.com/github/sangramdhurve/SVD/blob/main/Singular_Value_Decomposition(SVD)_in_Python.ipynb\" target=\"_parent\"><img src=\"https://colab.research.google.com/assets/colab-badge.svg\" alt=\"Open In Colab\"/></a>"
      ]
    },
    {
      "cell_type": "code",
      "execution_count": null,
      "metadata": {
        "id": "bAS1uDZxM-UM"
      },
      "outputs": [],
      "source": [
        "from sklearn.decomposition import TruncatedSVD\n",
        "from scipy.sparse import csr_matrix\n",
        "import numpy as np"
      ]
    },
    {
      "cell_type": "code",
      "source": [
        "np.random.seed(0)\n",
        "X_dense = np.random.rand(100, 100)"
      ],
      "metadata": {
        "id": "nfn0wuzzNEnk"
      },
      "execution_count": null,
      "outputs": []
    },
    {
      "cell_type": "code",
      "source": [
        "X_dense[:, 2 * np.arange(50)] = 0\n",
        "X = csr_matrix(X_dense)"
      ],
      "metadata": {
        "id": "gCf3jcJYNKsP"
      },
      "execution_count": null,
      "outputs": []
    },
    {
      "cell_type": "code",
      "source": [
        "svd = TruncatedSVD(n_components=5, n_iter=7, random_state=42)\n",
        "svd.fit(X)"
      ],
      "metadata": {
        "colab": {
          "base_uri": "https://localhost:8080/"
        },
        "id": "7E4cm1SdNOLh",
        "outputId": "61c12911-1ec8-49e5-f361-41541fd2d5b5"
      },
      "execution_count": null,
      "outputs": [
        {
          "output_type": "execute_result",
          "data": {
            "text/plain": [
              "TruncatedSVD(n_components=5, n_iter=7, random_state=42)"
            ]
          },
          "metadata": {},
          "execution_count": 4
        }
      ]
    },
    {
      "cell_type": "code",
      "source": [
        "print(svd.explained_variance_ratio_)"
      ],
      "metadata": {
        "colab": {
          "base_uri": "https://localhost:8080/"
        },
        "id": "VqqrOBs3NQ-B",
        "outputId": "27fca03b-ba0c-4728-d74f-6615ece05d60"
      },
      "execution_count": null,
      "outputs": [
        {
          "output_type": "stream",
          "name": "stdout",
          "text": [
            "[0.01570766 0.05122679 0.04998062 0.04795064 0.04539933]\n"
          ]
        }
      ]
    },
    {
      "cell_type": "code",
      "source": [
        "print(svd.explained_variance_ratio_.sum())"
      ],
      "metadata": {
        "colab": {
          "base_uri": "https://localhost:8080/"
        },
        "id": "68qpkvN2NU8P",
        "outputId": "ef606088-e579-4bf2-f731-5f46496dc10f"
      },
      "execution_count": null,
      "outputs": [
        {
          "output_type": "stream",
          "name": "stdout",
          "text": [
            "0.21026503465070334\n"
          ]
        }
      ]
    },
    {
      "cell_type": "code",
      "source": [
        "print(svd.singular_values_)"
      ],
      "metadata": {
        "colab": {
          "base_uri": "https://localhost:8080/"
        },
        "id": "KKg-5Ke1NXMo",
        "outputId": "68bf419e-c508-46e8-f232-94ec1a2560b6"
      },
      "execution_count": null,
      "outputs": [
        {
          "output_type": "stream",
          "name": "stdout",
          "text": [
            "[35.24105443  4.5981613   4.54200434  4.44866153  4.32887456]\n"
          ]
        }
      ]
    },
    {
      "cell_type": "code",
      "source": [
        ""
      ],
      "metadata": {
        "id": "4TDaRB84OJtv"
      },
      "execution_count": null,
      "outputs": []
    }
  ]
}